{
 "cells": [
  {
   "cell_type": "code",
   "execution_count": 1,
   "metadata": {},
   "outputs": [],
   "source": [
    "import inspyred\n",
    "import matplotlib.pyplot as plt\n",
    "import numpy as np\n",
    "\n",
    "#Paquetes a usar para los MOOP\n",
    "from EMO.MOOP import MOOP\n",
    "from EMO.MOOP import Obj_NonRed\n",
    "from EMO.MOOP import PCAs\n",
    "\n",
    "# Para Brokhoff & Zitzler\n",
    "from EMO.MOOP import MOSS_Exact\n",
    "from EMO.MOOP import performExactAlgorithm\n",
    "from EMO.MOOP import Sets_Delta"
   ]
  },
  {
   "cell_type": "code",
   "execution_count": 7,
   "metadata": {},
   "outputs": [],
   "source": [
    "def f1(x):\n",
    "    return 1 - np.exp(-np.sum((x-1/np.sqrt(len(x)))**2))\n",
    "\n",
    "def f2(x):\n",
    "    return 3*f1(x)\n",
    "\n",
    "def f3(x):\n",
    "    return 2*f1(x)\n",
    "\n",
    "def f4(x):\n",
    "    return 5*f1(x)\n",
    "\n",
    "def f5(x):\n",
    "    return f3(x)+f4(x)\n",
    "\n",
    "\n",
    "problemEj3 = MOOP(seed = 100,functions = [f1,f2,f3,f4,f5], num_variables = 3, intervals = (-4,4))\n",
    "problemEj3.solveNSGA2(num_generations = 100, population_size = 100, plot_iter = False)#'last')"
   ]
  },
  {
   "cell_type": "code",
   "execution_count": 8,
   "metadata": {},
   "outputs": [
    {
     "data": {
      "text/plain": [
       "(array([ 2.50000000e+01,  3.94306379e-31,  2.58926434e-33,  0.00000000e+00,\n",
       "        -7.40148683e-16]),\n",
       " array([[-0.4472136 , -0.37080945, -0.89349044, -0.89442719,  0.2236068 ],\n",
       "        [-0.4472136 ,  0.72905581,  0.22478718,  0.2236068 ,  0.2236068 ],\n",
       "        [-0.4472136 , -0.23605021,  0.25475246,  0.2236068 ,  0.2236068 ],\n",
       "        [-0.4472136 ,  0.30482018,  0.22384413,  0.2236068 , -0.89442719],\n",
       "        [-0.4472136 , -0.42701632,  0.19010666,  0.2236068 ,  0.2236068 ]]),\n",
       " array([100., 100., 100., 100., 100.]),\n",
       " array([[1., 1., 1., 1., 1.],\n",
       "        [1., 1., 1., 1., 1.],\n",
       "        [1., 1., 1., 1., 1.],\n",
       "        [1., 1., 1., 1., 1.],\n",
       "        [1., 1., 1., 1., 1.]]))"
      ]
     },
     "execution_count": 8,
     "metadata": {},
     "output_type": "execute_result"
    }
   ],
   "source": [
    "PCAs(problemEj3.eval)"
   ]
  },
  {
   "cell_type": "code",
   "execution_count": 9,
   "metadata": {},
   "outputs": [
    {
     "data": {
      "text/plain": [
       "{'f1'}"
      ]
     },
     "execution_count": 9,
     "metadata": {},
     "output_type": "execute_result"
    }
   ],
   "source": [
    "functions = ['f1', 'f2', 'f3', 'f4', 'f5']\n",
    "Obj_NonRed(problemEj3.eval, functions, 95)"
   ]
  },
  {
   "cell_type": "code",
   "execution_count": 15,
   "metadata": {},
   "outputs": [
    {
     "data": {
      "text/plain": [
       "[['f1'], ['f2'], ['f3'], ['f4'], ['f5']]"
      ]
     },
     "execution_count": 15,
     "metadata": {},
     "output_type": "execute_result"
    }
   ],
   "source": [
    "MOSS_Exact(problemEj3.eval, functions,100)"
   ]
  },
  {
   "cell_type": "code",
   "execution_count": 12,
   "metadata": {},
   "outputs": [
    {
     "name": "stdout",
     "output_type": "stream",
     "text": [
      "1.065067799510544e-07 ['f1', 'f2', 'f3', 'f4', 'f5']\n",
      "7.607627139361028e-08 ['f1', 'f2', 'f3', 'f4']\n",
      "1.065067799510544e-07 ['f1', 'f2', 'f3', 'f5']\n",
      "1.065067799510544e-07 ['f1', 'f2', 'f4', 'f5']\n",
      "1.065067799510544e-07 ['f1', 'f3', 'f4', 'f5']\n",
      "1.065067799510544e-07 ['f2', 'f3', 'f4', 'f5']\n",
      "4.564576283616617e-08 ['f1', 'f2', 'f3']\n",
      "7.607627139361028e-08 ['f1', 'f2', 'f4']\n",
      "1.065067799510544e-07 ['f1', 'f2', 'f5']\n",
      "7.607627139361028e-08 ['f1', 'f3', 'f4']\n",
      "1.065067799510544e-07 ['f1', 'f3', 'f5']\n",
      "1.065067799510544e-07 ['f1', 'f4', 'f5']\n",
      "7.607627139361028e-08 ['f2', 'f3', 'f4']\n",
      "1.065067799510544e-07 ['f2', 'f3', 'f5']\n",
      "1.065067799510544e-07 ['f2', 'f4', 'f5']\n",
      "1.065067799510544e-07 ['f3', 'f4', 'f5']\n",
      "4.564576283616617e-08 ['f1', 'f2']\n",
      "3.0430508557444114e-08 ['f1', 'f3']\n",
      "7.607627139361028e-08 ['f1', 'f4']\n",
      "1.065067799510544e-07 ['f1', 'f5']\n",
      "4.564576283616617e-08 ['f2', 'f3']\n",
      "7.607627139361028e-08 ['f2', 'f4']\n",
      "1.065067799510544e-07 ['f2', 'f5']\n",
      "7.607627139361028e-08 ['f3', 'f4']\n",
      "1.065067799510544e-07 ['f3', 'f5']\n",
      "1.065067799510544e-07 ['f4', 'f5']\n",
      "1.5215254278722057e-08 ['f1']\n",
      "4.564576283616617e-08 ['f2']\n",
      "3.0430508557444114e-08 ['f3']\n",
      "7.607627139361028e-08 ['f4']\n",
      "1.065067799510544e-07 ['f5']\n"
     ]
    }
   ],
   "source": [
    "Sets_Delta(problemEj3.eval,functions)"
   ]
  }
 ],
 "metadata": {
  "kernelspec": {
   "display_name": "Python 3",
   "language": "python",
   "name": "python3"
  },
  "language_info": {
   "codemirror_mode": {
    "name": "ipython",
    "version": 3
   },
   "file_extension": ".py",
   "mimetype": "text/x-python",
   "name": "python",
   "nbconvert_exporter": "python",
   "pygments_lexer": "ipython3",
   "version": "3.9.0"
  }
 },
 "nbformat": 4,
 "nbformat_minor": 4
}
