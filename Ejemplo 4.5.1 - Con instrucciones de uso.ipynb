{
 "cells": [
  {
   "cell_type": "code",
   "execution_count": 1,
   "metadata": {},
   "outputs": [],
   "source": [
    "import matplotlib.pyplot as plt # Para gráficar\n",
    "import numpy as np # Para cálculos\n",
    "\n",
    "# Paquete para la clase MOOP\n",
    "from EMO.MOOP import MOOP\n",
    "\n",
    "# Estrategia de reducción de objetivos \n",
    "# Deb & Saxena\n",
    "from EMO.MOOP import Obj_NonRed\n",
    "from EMO.MOOP import PCAs\n",
    "\n",
    "# Para Brockhoff & Zitzler\n",
    "from EMO.MOOP import MOSS_Exact # Computa el algoritmo exacto para el problema MOSS\n",
    "from EMO.MOOP import Sets_Delta # Retorna los distintos subconjuntos de objetivos con sus errores asociados"
   ]
  },
  {
   "cell_type": "code",
   "execution_count": 7,
   "metadata": {},
   "outputs": [],
   "source": [
    "# Se definen las funciones del MOOP que se quiere resolver\n",
    "def f1(x):\n",
    "    return 4*x[0]**2-4*x[0]+1\n",
    "\n",
    "def f2(x):\n",
    "    return x[0]**3\n",
    "\n",
    "def f3(x):\n",
    "    return -x[0]+1\n",
    "\n",
    "def f4(x):\n",
    "    x = x[0]\n",
    "    if x >= 0 and x <= 0.25:\n",
    "        return -4*x+1\n",
    "    elif x > 0.25 and x <= 0.5:\n",
    "        return 4*x-1\n",
    "    elif x > 0.5 and x <= 0.75:\n",
    "        return -4*x+3\n",
    "    elif x > 0.75 and x <= 1:\n",
    "        return 4*x-3\n",
    "\n",
    "# Llamando a la clase MOOP\n",
    "problem = MOOP(functions = [f1,f2,f3,f4], # Una lista con los nombres de las funciones\n",
    "               num_variables = 1, # Número de variables de las funcione objetivos\n",
    "               intervals = (0,1)) # Definición de intervalos de las variables de decisión\n",
    "\n",
    "# Resolviendo el problema con NSGA - II\n",
    "problem.solveNSGA2(num_generations = 20, # Número de generaciones\n",
    "                   population_size = 100, # Número de individuos en la población (se mantiene estático en cada generación)\n",
    "                   plot_iter = False) # Para imprimir la gráfica de las soluciones"
   ]
  },
  {
   "cell_type": "code",
   "execution_count": 8,
   "metadata": {},
   "outputs": [
    {
     "data": {
      "text/plain": [
       "(array([5.30808638e+00, 1.47498706e+00, 2.30107084e-01, 3.55811781e-06]),\n",
       " array([[ 0.46390117,  0.46963599, -0.70168524,  0.26809617],\n",
       "        [ 0.63139907, -0.25658246, -0.03359611, -0.7310075 ],\n",
       "        [-0.53261416,  0.50971463, -0.25069735, -0.62742648],\n",
       "        [ 0.32008292,  0.67364566,  0.66607804,  0.00940724]]),\n",
       " array([ 75.687253  ,  96.7188849 ,  99.99994927, 100.        ]),\n",
       " array([[ 1.        ,  0.53942831, -0.19446416,  0.50213566],\n",
       "        [ 0.53942831,  1.        , -0.92872326,  0.24495726],\n",
       "        [-0.19446416, -0.92872326,  1.        , -0.05587181],\n",
       "        [ 0.50213566,  0.24495726, -0.05587181,  1.        ]]))"
      ]
     },
     "execution_count": 8,
     "metadata": {},
     "output_type": "execute_result"
    }
   ],
   "source": [
    "# Esta función sirve para ver el PCA aplicado a las soluciones en el espacio objetivo\n",
    "# En problem.eval se encuentran las evaluaciones de las soluciones (espacio objetivo)\n",
    "PCAs(problem.eval)"
   ]
  },
  {
   "cell_type": "code",
   "execution_count": 9,
   "metadata": {},
   "outputs": [
    {
     "data": {
      "text/plain": [
       "{'f2', 'f3', 'f4'}"
      ]
     },
     "execution_count": 9,
     "metadata": {},
     "output_type": "execute_result"
    }
   ],
   "source": [
    "functions = ['f1', 'f2', 'f3', 'f4'] # Se define una lista donde las funciones se pasan como \"strings\"\n",
    "\n",
    "# El siguiente código aplica la estrategia de Deb & Saxena a las soluciones en el espacio objetivo\n",
    "# Se ha elegido un umbral de corte del 98%\n",
    "Obj_NonRed(problem.eval, functions, 98)"
   ]
  },
  {
   "cell_type": "code",
   "execution_count": 10,
   "metadata": {},
   "outputs": [
    {
     "data": {
      "text/plain": [
       "[['f2', 'f3']]"
      ]
     },
     "execution_count": 10,
     "metadata": {},
     "output_type": "execute_result"
    }
   ],
   "source": [
    "# Se aplica el algoritmo exacto de la estrategia de \n",
    "# Brockhoff & Zitzler a la población de problem.eval\n",
    "MOSS_Exact(problem.eval, functions)"
   ]
  },
  {
   "cell_type": "code",
   "execution_count": 11,
   "metadata": {},
   "outputs": [
    {
     "name": "stdout",
     "output_type": "stream",
     "text": [
      "0 ['f1', 'f2', 'f3', 'f4']\n",
      "0 ['f1', 'f2', 'f3']\n",
      "1.0 ['f1', 'f2', 'f4']\n",
      "1.0 ['f1', 'f3', 'f4']\n",
      "0 ['f2', 'f3', 'f4']\n",
      "1.0 ['f1', 'f2']\n",
      "1.0 ['f1', 'f3']\n",
      "0.9999942781090352 ['f1', 'f4']\n",
      "0 ['f2', 'f3']\n",
      "1.0 ['f2', 'f4']\n",
      "1.0 ['f3', 'f4']\n",
      "0.9999942781090352 ['f1']\n",
      "1.0 ['f2']\n",
      "1.0 ['f3']\n",
      "0.9998724551155673 ['f4']\n"
     ]
    }
   ],
   "source": [
    "# Genera los subconjuntos de objetivos, con el error máximo respectivo\n",
    "Sets_Delta(problem.eval, functions)"
   ]
  }
 ],
 "metadata": {
  "kernelspec": {
   "display_name": "Python 3",
   "language": "python",
   "name": "python3"
  },
  "language_info": {
   "codemirror_mode": {
    "name": "ipython",
    "version": 3
   },
   "file_extension": ".py",
   "mimetype": "text/x-python",
   "name": "python",
   "nbconvert_exporter": "python",
   "pygments_lexer": "ipython3",
   "version": "3.9.0"
  }
 },
 "nbformat": 4,
 "nbformat_minor": 4
}
